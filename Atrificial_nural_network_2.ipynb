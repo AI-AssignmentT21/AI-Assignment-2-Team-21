{
  "nbformat": 4,
  "nbformat_minor": 0,
  "metadata": {
    "colab": {
      "provenance": []
    },
    "kernelspec": {
      "name": "python3",
      "display_name": "Python 3"
    },
    "language_info": {
      "name": "python"
    }
  },
  "cells": [
    {
      "cell_type": "code",
      "execution_count": 20,
      "metadata": {
        "id": "xj5zBE2pmelt"
      },
      "outputs": [],
      "source": [
        "#adding libraries\n",
        "from sklearn import linear_model\n",
        "from sklearn.linear_model import LinearRegression\n",
        "import csv\n",
        "import requests\n",
        "import numpy as np\n",
        "import pandas as pd\n",
        "import matplotlib\n",
        "import matplotlib.pyplot as plt\n",
        "import seaborn as sns\n",
        "import scipy.stats as stats\n",
        "from sklearn import metrics"
      ]
    },
    {
      "cell_type": "code",
      "source": [
        "#accessing the dataset file stored in the Google drive\n",
        "import pandas as pd\n",
        "from google.colab import drive\n",
        "drive.mount('/content/gdrive')\n",
        "import os\n",
        "os.chdir(\"/content/gdrive/MyDrive/Colab Notebooks\")\n",
        "!ls\n",
        "#Reading the dataset file\n",
        "my_dataset = pd.read_csv('Fatality.csv')\n",
        "#Representing datatypes of the dataset columns\n",
        "print(my_dataset.dtypes)"
      ],
      "metadata": {
        "id": "0_M1v31RoUBI",
        "colab": {
          "base_uri": "https://localhost:8080/"
        },
        "outputId": "b29e40e4-4f35-428a-c0bd-8f1bd2122fab"
      },
      "execution_count": 21,
      "outputs": [
        {
          "output_type": "stream",
          "name": "stdout",
          "text": [
            "Drive already mounted at /content/gdrive; to attempt to forcibly remount, call drive.mount(\"/content/gdrive\", force_remount=True).\n",
            "'Atrificial nural network.ipynb'\t  'Untitled0 (1).ipynb'   Untitled2.ipynb\n",
            "'Copy of Atrificial nural network.ipynb'   Untitled0.ipynb\t 'Untitled (3)'\n",
            " Fatality.csv\t\t\t\t  'Untitled (1)'\t  Untitled3.ipynb\n",
            " penguins_size.csv\t\t\t  'Untitled1 (1).ipynb'  'Untitled (4)'\n",
            "'PR2_Demo (1).ipynb'\t\t\t   Untitled1.ipynb\n",
            " Untitled\t\t\t\t  'Untitled (2)'\n",
            "rownames      int64\n",
            "state         int64\n",
            "year          int64\n",
            "mrall       float64\n",
            "beertax     float64\n",
            "mlda        float64\n",
            "jaild        object\n",
            "comserd      object\n",
            "vmiles      float64\n",
            "unrate      float64\n",
            "perinc      float64\n",
            "dtype: object\n"
          ]
        }
      ]
    },
    {
      "cell_type": "code",
      "source": [
        "#Since categorical attributes are specified as \"object\", their type is changed to \"category\"\n",
        "my_dataset[\"jaild\"] = my_dataset[\"jaild\"].astype('category')\n",
        "my_dataset[\"comserd\"] = my_dataset[\"comserd\"].astype('category')\n",
        "\n",
        "#New columns are created for categorical attributes and their values are converted to numeric values\n",
        "my_dataset[\"jaild_cat\"] = my_dataset[\"jaild\"].cat.codes\n",
        "my_dataset[\"comser_cat\"] = my_dataset[\"comserd\"].cat.codes\n",
        "\n",
        "#Representing datatypes of the dataset columns\n",
        "print(my_dataset.dtypes)"
      ],
      "metadata": {
        "colab": {
          "base_uri": "https://localhost:8080/"
        },
        "id": "lASYj3FMmwQ1",
        "outputId": "3c7e44c4-8b2f-4bb1-fc8b-c40e09134b1b"
      },
      "execution_count": 22,
      "outputs": [
        {
          "output_type": "stream",
          "name": "stdout",
          "text": [
            "rownames         int64\n",
            "state            int64\n",
            "year             int64\n",
            "mrall          float64\n",
            "beertax        float64\n",
            "mlda           float64\n",
            "jaild         category\n",
            "comserd       category\n",
            "vmiles         float64\n",
            "unrate         float64\n",
            "perinc         float64\n",
            "jaild_cat         int8\n",
            "comser_cat        int8\n",
            "dtype: object\n"
          ]
        }
      ]
    },
    {
      "cell_type": "code",
      "source": [
        "my_reduced_dataset = my_dataset[[\"vmiles\",\"mrall\",\"beertax\",\"mlda\",\"rownames\",\"state\",\"year\",\"unrate\",\"perinc\",\"jaild_cat\",\"comser_cat\"]]\n",
        "#Dataset data are displayed\n",
        "print(my_reduced_dataset.describe())\n",
        "print(my_reduced_dataset.info())"
      ],
      "metadata": {
        "colab": {
          "base_uri": "https://localhost:8080/"
        },
        "id": "13MTqGzNoYWC",
        "outputId": "51755b6d-373a-4c39-c984-682fd571c983"
      },
      "execution_count": 23,
      "outputs": [
        {
          "output_type": "stream",
          "name": "stdout",
          "text": [
            "           vmiles       mrall     beertax        mlda    rownames       state  \\\n",
            "count  336.000000  336.000000  336.000000  336.000000  336.000000  336.000000   \n",
            "mean     7.890754    2.040444    0.513256   20.455625  168.500000   30.187500   \n",
            "std      1.475659    0.570194    0.477844    0.899025   97.139076   15.309853   \n",
            "min      4.576346    0.821210    0.043311   18.000000    1.000000    1.000000   \n",
            "25%      7.182539    1.623710    0.208849   20.000000   84.750000   18.750000   \n",
            "50%      7.796219    1.955955    0.352589   21.000000  168.500000   30.500000   \n",
            "75%      8.504015    2.417888    0.651573   21.000000  252.250000   42.500000   \n",
            "max     26.148271    4.217840    2.720764   21.000000  336.000000   56.000000   \n",
            "\n",
            "              year      unrate        perinc   jaild_cat  comser_cat  \n",
            "count   336.000000  336.000000    336.000000  336.000000  336.000000  \n",
            "mean   1985.000000    7.346726  13880.184533    0.279762    0.184524  \n",
            "std       2.002983    2.533405   2253.046291    0.449552    0.388489  \n",
            "min    1982.000000    2.400000   9513.761719    0.000000    0.000000  \n",
            "25%    1983.000000    5.475000  12085.849854    0.000000    0.000000  \n",
            "50%    1985.000000    7.000000  13763.128906    0.000000    0.000000  \n",
            "75%    1987.000000    8.900000  15175.124268    1.000000    0.000000  \n",
            "max    1988.000000   18.000000  22193.455078    1.000000    1.000000  \n",
            "<class 'pandas.core.frame.DataFrame'>\n",
            "RangeIndex: 336 entries, 0 to 335\n",
            "Data columns (total 11 columns):\n",
            " #   Column      Non-Null Count  Dtype  \n",
            "---  ------      --------------  -----  \n",
            " 0   vmiles      336 non-null    float64\n",
            " 1   mrall       336 non-null    float64\n",
            " 2   beertax     336 non-null    float64\n",
            " 3   mlda        336 non-null    float64\n",
            " 4   rownames    336 non-null    int64  \n",
            " 5   state       336 non-null    int64  \n",
            " 6   year        336 non-null    int64  \n",
            " 7   unrate      336 non-null    float64\n",
            " 8   perinc      336 non-null    float64\n",
            " 9   jaild_cat   336 non-null    int8   \n",
            " 10  comser_cat  336 non-null    int8   \n",
            "dtypes: float64(6), int64(3), int8(2)\n",
            "memory usage: 24.4 KB\n",
            "None\n"
          ]
        }
      ]
    },
    {
      "cell_type": "code",
      "source": [
        "#Replacing missing values with average values\n",
        "my_working_dataset=my_reduced_dataset.copy()\n",
        "my_working_dataset['vmiles']=my_working_dataset['vmiles'].fillna(my_working_dataset['vmiles'].mean())\n",
        "my_working_dataset['mrall']=my_working_dataset['mrall'].fillna(my_working_dataset['mrall'].mean())\n",
        "my_working_dataset['beertax']=my_working_dataset['beertax'].fillna(my_working_dataset['beertax'].mean())\n",
        "my_working_dataset['mlda']=my_working_dataset['mlda'].fillna(my_working_dataset['mlda'].mean())\n",
        "my_working_dataset['rownames']=my_working_dataset['rownames'].fillna(my_working_dataset['rownames'].mean())\n",
        "my_working_dataset['state']=my_working_dataset['state'].fillna(my_working_dataset['state'].mean())\n",
        "my_working_dataset['year']=my_working_dataset['year'].fillna(my_working_dataset['year'].mean())\n",
        "my_working_dataset['unrate']=my_working_dataset['unrate'].fillna(my_working_dataset['unrate'].mean())\n",
        "my_working_dataset['perinc']=my_working_dataset['rownames'].fillna(my_working_dataset['rownames'].mean())\n",
        "\n",
        "\n",
        "#Dataset data are displayed\n",
        "print(my_working_dataset.info())"
      ],
      "metadata": {
        "colab": {
          "base_uri": "https://localhost:8080/"
        },
        "id": "MwlN138FotvE",
        "outputId": "1db7d5cb-89b4-442b-c566-adc9241dd072"
      },
      "execution_count": 24,
      "outputs": [
        {
          "output_type": "stream",
          "name": "stdout",
          "text": [
            "<class 'pandas.core.frame.DataFrame'>\n",
            "RangeIndex: 336 entries, 0 to 335\n",
            "Data columns (total 11 columns):\n",
            " #   Column      Non-Null Count  Dtype  \n",
            "---  ------      --------------  -----  \n",
            " 0   vmiles      336 non-null    float64\n",
            " 1   mrall       336 non-null    float64\n",
            " 2   beertax     336 non-null    float64\n",
            " 3   mlda        336 non-null    float64\n",
            " 4   rownames    336 non-null    int64  \n",
            " 5   state       336 non-null    int64  \n",
            " 6   year        336 non-null    int64  \n",
            " 7   unrate      336 non-null    float64\n",
            " 8   perinc      336 non-null    int64  \n",
            " 9   jaild_cat   336 non-null    int8   \n",
            " 10  comser_cat  336 non-null    int8   \n",
            "dtypes: float64(5), int64(4), int8(2)\n",
            "memory usage: 24.4 KB\n",
            "None\n"
          ]
        }
      ]
    },
    {
      "cell_type": "code",
      "source": [
        "#For attributes of categorical type, the values are checked against possible values\n",
        "print(my_working_dataset['jaild_cat'].value_counts())\n",
        "print(my_working_dataset['comser_cat'].value_counts())"
      ],
      "metadata": {
        "colab": {
          "base_uri": "https://localhost:8080/"
        },
        "id": "5WW_FwExo4ML",
        "outputId": "14e9a98a-1bc8-4b9d-c3a2-2f95e2650773"
      },
      "execution_count": 25,
      "outputs": [
        {
          "output_type": "stream",
          "name": "stdout",
          "text": [
            "jaild_cat\n",
            "0    242\n",
            "1     94\n",
            "Name: count, dtype: int64\n",
            "comser_cat\n",
            "0    274\n",
            "1     62\n",
            "Name: count, dtype: int64\n"
          ]
        }
      ]
    },
    {
      "cell_type": "code",
      "source": [
        "#Data normalisation is applied for four attributes to make the data more consistent\n",
        "my_working_dataset['vmiles']=(my_working_dataset['vmiles']-my_working_dataset['vmiles'].min())/(my_working_dataset['vmiles'].max()-my_working_dataset['vmiles'].min())\n",
        "my_working_dataset['mrall']=(my_working_dataset['mrall']-my_working_dataset['mrall'].min())/(my_working_dataset['mrall'].max()-my_working_dataset['mrall'].min())\n",
        "my_working_dataset['beertax']=(my_working_dataset['beertax']-my_working_dataset['beertax'].min())/(my_working_dataset['beertax'].max()-my_working_dataset['beertax'].min())\n",
        "my_working_dataset['rownames']=(my_working_dataset['rownames']-my_working_dataset['rownames'].min())/(my_working_dataset['rownames'].max()-my_working_dataset['rownames'].min())\n",
        "my_working_dataset['state']=(my_working_dataset['state']-my_working_dataset['state'].min())/(my_working_dataset['state'].max()-my_working_dataset['state'].min())\n",
        "my_working_dataset['unrate']=(my_working_dataset['unrate']-my_working_dataset['unrate'].min())/(my_working_dataset['unrate'].max()-my_working_dataset['unrate'].min())\n",
        "my_working_dataset['perinc']=(my_working_dataset['perinc']-my_working_dataset['perinc'].min())/(my_working_dataset['perinc'].max()-my_working_dataset['perinc'].min())\n",
        "my_working_dataset['year']=(my_working_dataset['year']-my_working_dataset['year'].min())/(my_working_dataset['year'].max()-my_working_dataset['year'].min())\n",
        "print(my_working_dataset.head(10))\n",
        "print(my_working_dataset.describe())"
      ],
      "metadata": {
        "id": "27giA24UyXCT",
        "colab": {
          "base_uri": "https://localhost:8080/"
        },
        "outputId": "c0fe9dd8-eee6-4122-81b3-57677d5acde6"
      },
      "execution_count": 26,
      "outputs": [
        {
          "output_type": "stream",
          "name": "stdout",
          "text": [
            "     vmiles     mrall   beertax   mlda  rownames     state      year  \\\n",
            "0  0.123194  0.384837  0.558766  19.00  0.000000  0.000000  0.000000   \n",
            "1  0.151122  0.449643  0.651993  19.00  0.002985  0.000000  0.166667   \n",
            "2  0.170900  0.446095  0.624091  19.00  0.005970  0.000000  0.333333   \n",
            "3  0.192406  0.404009  0.601031  19.67  0.008955  0.000000  0.500000   \n",
            "4  0.202880  0.544048  0.585107  21.00  0.011940  0.000000  0.666667   \n",
            "5  0.212775  0.558607  0.566467  21.00  0.014925  0.000000  0.833333   \n",
            "6  0.236325  0.492459  0.544597  21.00  0.017910  0.000000  1.000000   \n",
            "7  0.103552  0.493998  0.064048  19.00  0.020896  0.054545  0.000000   \n",
            "8  0.093230  0.425766  0.060920  19.00  0.023881  0.054545  0.166667   \n",
            "9  0.098907  0.591048  0.094639  19.00  0.026866  0.054545  0.333333   \n",
            "\n",
            "     unrate    perinc  jaild_cat  comser_cat  \n",
            "0  0.769231  0.000000          0           0  \n",
            "1  0.724359  0.002985          0           0  \n",
            "2  0.557692  0.005970          0           0  \n",
            "3  0.416667  0.008955          0           0  \n",
            "4  0.474359  0.011940          0           0  \n",
            "5  0.346154  0.014925          0           0  \n",
            "6  0.307692  0.017910          0           0  \n",
            "7  0.480769  0.020896          1           1  \n",
            "8  0.429487  0.023881          1           1  \n",
            "9  0.166667  0.026866          1           1  \n",
            "           vmiles       mrall     beertax        mlda    rownames       state  \\\n",
            "count  336.000000  336.000000  336.000000  336.000000  336.000000  336.000000   \n",
            "mean     0.153645    0.358954    0.175519   20.455625    0.500000    0.530682   \n",
            "std      0.068406    0.167870    0.178470    0.899025    0.289967    0.278361   \n",
            "min      0.000000    0.000000    0.000000   18.000000    0.000000    0.000000   \n",
            "25%      0.120814    0.236264    0.061827   20.000000    0.250000    0.322727   \n",
            "50%      0.149262    0.334080    0.115512   21.000000    0.500000    0.536364   \n",
            "75%      0.182073    0.470077    0.227180   21.000000    0.750000    0.754545   \n",
            "max      1.000000    1.000000    1.000000   21.000000    1.000000    1.000000   \n",
            "\n",
            "             year      unrate      perinc   jaild_cat  comser_cat  \n",
            "count  336.000000  336.000000  336.000000  336.000000  336.000000  \n",
            "mean     0.500000    0.317098    0.500000    0.279762    0.184524  \n",
            "std      0.333830    0.162398    0.289967    0.449552    0.388489  \n",
            "min      0.000000    0.000000    0.000000    0.000000    0.000000  \n",
            "25%      0.166667    0.197115    0.250000    0.000000    0.000000  \n",
            "50%      0.500000    0.294872    0.500000    0.000000    0.000000  \n",
            "75%      0.833333    0.416667    0.750000    1.000000    0.000000  \n",
            "max      1.000000    1.000000    1.000000    1.000000    1.000000  \n"
          ]
        }
      ]
    },
    {
      "cell_type": "markdown",
      "source": [
        "**ARTIFIAL NN**"
      ],
      "metadata": {
        "id": "vHvKIbcdIt1_"
      }
    },
    {
      "cell_type": "code",
      "source": [
        "clustering_dataset = my_working_dataset[['comser_cat','mlda','vmiles','year']]\n",
        "from sklearn.model_selection import train_test_split\n",
        "targets = my_working_dataset['jaild_cat']\n",
        "training_proportion = 0.7\n",
        "X_train, X_test, y_train, y_test = train_test_split(clustering_dataset, targets, test_size=1.0 - training_proportion, random_state=42)"
      ],
      "metadata": {
        "id": "xDpIqOlr9r0R"
      },
      "execution_count": 27,
      "outputs": []
    },
    {
      "cell_type": "code",
      "source": [
        "from sklearn.neural_network import MLPClassifier\n",
        "my_ann_model = MLPClassifier(hidden_layer_sizes=(500,500), max_iter=1000, activation = 'logistic', solver='sgd', learning_rate_init = 0.2, verbose = 1)\n",
        "my_ann_model.fit(X_train, y_train)"
      ],
      "metadata": {
        "colab": {
          "base_uri": "https://localhost:8080/",
          "height": 597
        },
        "id": "ANR9RENb7oR0",
        "outputId": "e2c92c9a-0c8a-469e-847c-403377acde11"
      },
      "execution_count": 28,
      "outputs": [
        {
          "output_type": "stream",
          "name": "stdout",
          "text": [
            "Iteration 1, loss = 2.36131867\n",
            "Iteration 2, loss = 3.51196380\n",
            "Iteration 3, loss = 0.75355315\n",
            "Iteration 4, loss = 0.72236328\n",
            "Iteration 5, loss = 0.61805579\n",
            "Iteration 6, loss = 0.59990943\n",
            "Iteration 7, loss = 0.59832005\n",
            "Iteration 8, loss = 0.59994888\n",
            "Iteration 9, loss = 0.59912865\n",
            "Iteration 10, loss = 0.59894628\n",
            "Iteration 11, loss = 0.59837325\n",
            "Iteration 12, loss = 0.59846152\n",
            "Iteration 13, loss = 0.59847286\n",
            "Iteration 14, loss = 0.59842391\n",
            "Iteration 15, loss = 0.59824399\n",
            "Iteration 16, loss = 0.59810513\n",
            "Iteration 17, loss = 0.59804869\n",
            "Iteration 18, loss = 0.59807556\n",
            "Iteration 19, loss = 0.59807983\n",
            "Iteration 20, loss = 0.59808008\n",
            "Iteration 21, loss = 0.59821368\n",
            "Iteration 22, loss = 0.59838738\n",
            "Iteration 23, loss = 0.59886264\n",
            "Iteration 24, loss = 0.59925822\n",
            "Iteration 25, loss = 0.59974659\n",
            "Iteration 26, loss = 0.60017057\n",
            "Iteration 27, loss = 0.60016186\n",
            "Training loss did not improve more than tol=0.000100 for 10 consecutive epochs. Stopping.\n"
          ]
        },
        {
          "output_type": "execute_result",
          "data": {
            "text/plain": [
              "MLPClassifier(activation='logistic', hidden_layer_sizes=(500, 500),\n",
              "              learning_rate_init=0.2, max_iter=1000, solver='sgd', verbose=1)"
            ],
            "text/html": [
              "<style>#sk-container-id-5 {color: black;background-color: white;}#sk-container-id-5 pre{padding: 0;}#sk-container-id-5 div.sk-toggleable {background-color: white;}#sk-container-id-5 label.sk-toggleable__label {cursor: pointer;display: block;width: 100%;margin-bottom: 0;padding: 0.3em;box-sizing: border-box;text-align: center;}#sk-container-id-5 label.sk-toggleable__label-arrow:before {content: \"▸\";float: left;margin-right: 0.25em;color: #696969;}#sk-container-id-5 label.sk-toggleable__label-arrow:hover:before {color: black;}#sk-container-id-5 div.sk-estimator:hover label.sk-toggleable__label-arrow:before {color: black;}#sk-container-id-5 div.sk-toggleable__content {max-height: 0;max-width: 0;overflow: hidden;text-align: left;background-color: #f0f8ff;}#sk-container-id-5 div.sk-toggleable__content pre {margin: 0.2em;color: black;border-radius: 0.25em;background-color: #f0f8ff;}#sk-container-id-5 input.sk-toggleable__control:checked~div.sk-toggleable__content {max-height: 200px;max-width: 100%;overflow: auto;}#sk-container-id-5 input.sk-toggleable__control:checked~label.sk-toggleable__label-arrow:before {content: \"▾\";}#sk-container-id-5 div.sk-estimator input.sk-toggleable__control:checked~label.sk-toggleable__label {background-color: #d4ebff;}#sk-container-id-5 div.sk-label input.sk-toggleable__control:checked~label.sk-toggleable__label {background-color: #d4ebff;}#sk-container-id-5 input.sk-hidden--visually {border: 0;clip: rect(1px 1px 1px 1px);clip: rect(1px, 1px, 1px, 1px);height: 1px;margin: -1px;overflow: hidden;padding: 0;position: absolute;width: 1px;}#sk-container-id-5 div.sk-estimator {font-family: monospace;background-color: #f0f8ff;border: 1px dotted black;border-radius: 0.25em;box-sizing: border-box;margin-bottom: 0.5em;}#sk-container-id-5 div.sk-estimator:hover {background-color: #d4ebff;}#sk-container-id-5 div.sk-parallel-item::after {content: \"\";width: 100%;border-bottom: 1px solid gray;flex-grow: 1;}#sk-container-id-5 div.sk-label:hover label.sk-toggleable__label {background-color: #d4ebff;}#sk-container-id-5 div.sk-serial::before {content: \"\";position: absolute;border-left: 1px solid gray;box-sizing: border-box;top: 0;bottom: 0;left: 50%;z-index: 0;}#sk-container-id-5 div.sk-serial {display: flex;flex-direction: column;align-items: center;background-color: white;padding-right: 0.2em;padding-left: 0.2em;position: relative;}#sk-container-id-5 div.sk-item {position: relative;z-index: 1;}#sk-container-id-5 div.sk-parallel {display: flex;align-items: stretch;justify-content: center;background-color: white;position: relative;}#sk-container-id-5 div.sk-item::before, #sk-container-id-5 div.sk-parallel-item::before {content: \"\";position: absolute;border-left: 1px solid gray;box-sizing: border-box;top: 0;bottom: 0;left: 50%;z-index: -1;}#sk-container-id-5 div.sk-parallel-item {display: flex;flex-direction: column;z-index: 1;position: relative;background-color: white;}#sk-container-id-5 div.sk-parallel-item:first-child::after {align-self: flex-end;width: 50%;}#sk-container-id-5 div.sk-parallel-item:last-child::after {align-self: flex-start;width: 50%;}#sk-container-id-5 div.sk-parallel-item:only-child::after {width: 0;}#sk-container-id-5 div.sk-dashed-wrapped {border: 1px dashed gray;margin: 0 0.4em 0.5em 0.4em;box-sizing: border-box;padding-bottom: 0.4em;background-color: white;}#sk-container-id-5 div.sk-label label {font-family: monospace;font-weight: bold;display: inline-block;line-height: 1.2em;}#sk-container-id-5 div.sk-label-container {text-align: center;}#sk-container-id-5 div.sk-container {/* jupyter's `normalize.less` sets `[hidden] { display: none; }` but bootstrap.min.css set `[hidden] { display: none !important; }` so we also need the `!important` here to be able to override the default hidden behavior on the sphinx rendered scikit-learn.org. See: https://github.com/scikit-learn/scikit-learn/issues/21755 */display: inline-block !important;position: relative;}#sk-container-id-5 div.sk-text-repr-fallback {display: none;}</style><div id=\"sk-container-id-5\" class=\"sk-top-container\"><div class=\"sk-text-repr-fallback\"><pre>MLPClassifier(activation=&#x27;logistic&#x27;, hidden_layer_sizes=(500, 500),\n",
              "              learning_rate_init=0.2, max_iter=1000, solver=&#x27;sgd&#x27;, verbose=1)</pre><b>In a Jupyter environment, please rerun this cell to show the HTML representation or trust the notebook. <br />On GitHub, the HTML representation is unable to render, please try loading this page with nbviewer.org.</b></div><div class=\"sk-container\" hidden><div class=\"sk-item\"><div class=\"sk-estimator sk-toggleable\"><input class=\"sk-toggleable__control sk-hidden--visually\" id=\"sk-estimator-id-5\" type=\"checkbox\" checked><label for=\"sk-estimator-id-5\" class=\"sk-toggleable__label sk-toggleable__label-arrow\">MLPClassifier</label><div class=\"sk-toggleable__content\"><pre>MLPClassifier(activation=&#x27;logistic&#x27;, hidden_layer_sizes=(500, 500),\n",
              "              learning_rate_init=0.2, max_iter=1000, solver=&#x27;sgd&#x27;, verbose=1)</pre></div></div></div></div></div>"
            ]
          },
          "metadata": {},
          "execution_count": 28
        }
      ]
    },
    {
      "cell_type": "code",
      "source": [
        "from sklearn.metrics import classification_report, confusion_matrix, ConfusionMatrixDisplay\n",
        "import pylab as pltb\n",
        "y_predictions = my_ann_model.predict(X_test)\n",
        "print(classification_report(y_test,y_predictions, zero_division=0))\n",
        "my_confusion_matrix = confusion_matrix(y_test, y_predictions)\n",
        "fig, ax = pltb.subplots(figsize=(7,4))\n",
        "sns.heatmap(my_confusion_matrix, annot = True, fmt = 'g', ax = ax);\n",
        "ax.set_xlabel('Predicted class labels');\n",
        "ax.set_ylabel('True class labels');\n",
        "ax.set_title('Confusion matrix');\n",
        "ax.xaxis.set_ticklabels(my_dataset['jaild'].unique());\n",
        "ax.yaxis.set_ticklabels(my_dataset['jaild'].unique());"
      ],
      "metadata": {
        "colab": {
          "base_uri": "https://localhost:8080/",
          "height": 566
        },
        "id": "-DhzaHpW-Qo1",
        "outputId": "50c866c0-7694-4080-ecfd-2873010eb48d"
      },
      "execution_count": 29,
      "outputs": [
        {
          "output_type": "stream",
          "name": "stdout",
          "text": [
            "              precision    recall  f1-score   support\n",
            "\n",
            "           0       0.73      1.00      0.85        74\n",
            "           1       0.00      0.00      0.00        27\n",
            "\n",
            "    accuracy                           0.73       101\n",
            "   macro avg       0.37      0.50      0.42       101\n",
            "weighted avg       0.54      0.73      0.62       101\n",
            "\n"
          ]
        },
        {
          "output_type": "display_data",
          "data": {
            "text/plain": [
              "<Figure size 700x400 with 2 Axes>"
            ],
            "image/png": "[encoded data removed]"
          },
          "metadata": {}
        }
      ]
    },
    {
      "cell_type": "code",
      "source": [
        "my_ann_model_2 = MLPClassifier(hidden_layer_sizes=(20), max_iter=50, activation = 'logistic', solver='sgd', learning_rate_init = 0.5, verbose = 0)\n",
        "my_ann_model_2.fit(X_train, y_train)"
      ],
      "metadata": {
        "colab": {
          "base_uri": "https://localhost:8080/",
          "height": 92
        },
        "id": "EeME6MIt-XAn",
        "outputId": "b0eef3b0-c458-4269-d581-0afd5399e474"
      },
      "execution_count": 30,
      "outputs": [
        {
          "output_type": "execute_result",
          "data": {
            "text/plain": [
              "MLPClassifier(activation='logistic', hidden_layer_sizes=20,\n",
              "              learning_rate_init=0.5, max_iter=50, solver='sgd', verbose=0)"
            ],
            "text/html": [
              "<style>#sk-container-id-6 {color: black;background-color: white;}#sk-container-id-6 pre{padding: 0;}#sk-container-id-6 div.sk-toggleable {background-color: white;}#sk-container-id-6 label.sk-toggleable__label {cursor: pointer;display: block;width: 100%;margin-bottom: 0;padding: 0.3em;box-sizing: border-box;text-align: center;}#sk-container-id-6 label.sk-toggleable__label-arrow:before {content: \"▸\";float: left;margin-right: 0.25em;color: #696969;}#sk-container-id-6 label.sk-toggleable__label-arrow:hover:before {color: black;}#sk-container-id-6 div.sk-estimator:hover label.sk-toggleable__label-arrow:before {color: black;}#sk-container-id-6 div.sk-toggleable__content {max-height: 0;max-width: 0;overflow: hidden;text-align: left;background-color: #f0f8ff;}#sk-container-id-6 div.sk-toggleable__content pre {margin: 0.2em;color: black;border-radius: 0.25em;background-color: #f0f8ff;}#sk-container-id-6 input.sk-toggleable__control:checked~div.sk-toggleable__content {max-height: 200px;max-width: 100%;overflow: auto;}#sk-container-id-6 input.sk-toggleable__control:checked~label.sk-toggleable__label-arrow:before {content: \"▾\";}#sk-container-id-6 div.sk-estimator input.sk-toggleable__control:checked~label.sk-toggleable__label {background-color: #d4ebff;}#sk-container-id-6 div.sk-label input.sk-toggleable__control:checked~label.sk-toggleable__label {background-color: #d4ebff;}#sk-container-id-6 input.sk-hidden--visually {border: 0;clip: rect(1px 1px 1px 1px);clip: rect(1px, 1px, 1px, 1px);height: 1px;margin: -1px;overflow: hidden;padding: 0;position: absolute;width: 1px;}#sk-container-id-6 div.sk-estimator {font-family: monospace;background-color: #f0f8ff;border: 1px dotted black;border-radius: 0.25em;box-sizing: border-box;margin-bottom: 0.5em;}#sk-container-id-6 div.sk-estimator:hover {background-color: #d4ebff;}#sk-container-id-6 div.sk-parallel-item::after {content: \"\";width: 100%;border-bottom: 1px solid gray;flex-grow: 1;}#sk-container-id-6 div.sk-label:hover label.sk-toggleable__label {background-color: #d4ebff;}#sk-container-id-6 div.sk-serial::before {content: \"\";position: absolute;border-left: 1px solid gray;box-sizing: border-box;top: 0;bottom: 0;left: 50%;z-index: 0;}#sk-container-id-6 div.sk-serial {display: flex;flex-direction: column;align-items: center;background-color: white;padding-right: 0.2em;padding-left: 0.2em;position: relative;}#sk-container-id-6 div.sk-item {position: relative;z-index: 1;}#sk-container-id-6 div.sk-parallel {display: flex;align-items: stretch;justify-content: center;background-color: white;position: relative;}#sk-container-id-6 div.sk-item::before, #sk-container-id-6 div.sk-parallel-item::before {content: \"\";position: absolute;border-left: 1px solid gray;box-sizing: border-box;top: 0;bottom: 0;left: 50%;z-index: -1;}#sk-container-id-6 div.sk-parallel-item {display: flex;flex-direction: column;z-index: 1;position: relative;background-color: white;}#sk-container-id-6 div.sk-parallel-item:first-child::after {align-self: flex-end;width: 50%;}#sk-container-id-6 div.sk-parallel-item:last-child::after {align-self: flex-start;width: 50%;}#sk-container-id-6 div.sk-parallel-item:only-child::after {width: 0;}#sk-container-id-6 div.sk-dashed-wrapped {border: 1px dashed gray;margin: 0 0.4em 0.5em 0.4em;box-sizing: border-box;padding-bottom: 0.4em;background-color: white;}#sk-container-id-6 div.sk-label label {font-family: monospace;font-weight: bold;display: inline-block;line-height: 1.2em;}#sk-container-id-6 div.sk-label-container {text-align: center;}#sk-container-id-6 div.sk-container {/* jupyter's `normalize.less` sets `[hidden] { display: none; }` but bootstrap.min.css set `[hidden] { display: none !important; }` so we also need the `!important` here to be able to override the default hidden behavior on the sphinx rendered scikit-learn.org. See: https://github.com/scikit-learn/scikit-learn/issues/21755 */display: inline-block !important;position: relative;}#sk-container-id-6 div.sk-text-repr-fallback {display: none;}</style><div id=\"sk-container-id-6\" class=\"sk-top-container\"><div class=\"sk-text-repr-fallback\"><pre>MLPClassifier(activation=&#x27;logistic&#x27;, hidden_layer_sizes=20,\n",
              "              learning_rate_init=0.5, max_iter=50, solver=&#x27;sgd&#x27;, verbose=0)</pre><b>In a Jupyter environment, please rerun this cell to show the HTML representation or trust the notebook. <br />On GitHub, the HTML representation is unable to render, please try loading this page with nbviewer.org.</b></div><div class=\"sk-container\" hidden><div class=\"sk-item\"><div class=\"sk-estimator sk-toggleable\"><input class=\"sk-toggleable__control sk-hidden--visually\" id=\"sk-estimator-id-6\" type=\"checkbox\" checked><label for=\"sk-estimator-id-6\" class=\"sk-toggleable__label sk-toggleable__label-arrow\">MLPClassifier</label><div class=\"sk-toggleable__content\"><pre>MLPClassifier(activation=&#x27;logistic&#x27;, hidden_layer_sizes=20,\n",
              "              learning_rate_init=0.5, max_iter=50, solver=&#x27;sgd&#x27;, verbose=0)</pre></div></div></div></div></div>"
            ]
          },
          "metadata": {},
          "execution_count": 30
        }
      ]
    },
    {
      "cell_type": "code",
      "source": [
        "y_predictions_2 = my_ann_model_2.predict(X_test)\n",
        "print(classification_report(y_test,y_predictions_2, zero_division=0))\n",
        "my_confusion_matrix = confusion_matrix(y_test, y_predictions_2)\n",
        "fig, ax = pltb.subplots(figsize=(7,4))\n",
        "sns.heatmap(my_confusion_matrix, annot = True, fmt = 'g', ax = ax);\n",
        "ax.set_xlabel('Predicted class labels');\n",
        "ax.set_ylabel('True class labels');\n",
        "ax.set_title('Confusion matrix');\n",
        "ax.xaxis.set_ticklabels(my_dataset['jaild'].unique());\n",
        "ax.yaxis.set_ticklabels(my_dataset['jaild'].unique());"
      ],
      "metadata": {
        "colab": {
          "base_uri": "https://localhost:8080/",
          "height": 566
        },
        "id": "xl8KBaa7JIc1",
        "outputId": "75b7153a-574a-4bae-de16-e1a5d04e613f"
      },
      "execution_count": 31,
      "outputs": [
        {
          "output_type": "stream",
          "name": "stdout",
          "text": [
            "              precision    recall  f1-score   support\n",
            "\n",
            "           0       0.73      1.00      0.85        74\n",
            "           1       0.00      0.00      0.00        27\n",
            "\n",
            "    accuracy                           0.73       101\n",
            "   macro avg       0.37      0.50      0.42       101\n",
            "weighted avg       0.54      0.73      0.62       101\n",
            "\n"
          ]
        },
        {
          "output_type": "display_data",
          "data": {
            "text/plain": [
              "<Figure size 700x400 with 2 Axes>"
            ],
            "image/png": "[encoded data removed]"
          },
          "metadata": {}
        }
      ]
    }
  ]
}